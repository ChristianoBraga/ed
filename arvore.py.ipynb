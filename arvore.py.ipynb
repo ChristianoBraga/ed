{
 "cells": [
  {
   "cell_type": "markdown",
   "metadata": {},
   "source": [
    "# Lista de exercícios de Estrutura de Dados TCC00319 - Estruturas de Dados\n",
    "\n",
    "Novembro de 2018\n",
    "\n",
    "Christiano Braga\n",
    "Instituto de Computação\n",
    "Universidade Federal Fluminense\n",
    "\n",
    "http://www.ic.uff.br/~cbraga\n",
    "\n",
    "## Árvores binárias\n",
    "\n",
    "### Objetivo\n",
    "Esta lista de exercícios visa o treino dos algoritmos de caminhamento sobre uma árvore binária.\n",
    "\n",
    "### A classe `Ordem` \n",
    "A classe `Ordem` é somente uma enumeração representando cada um dos algoritmos de caminhamento\n",
    "vistos no curso: pré-ordem, simétrico e pós-ordem."
   ]
  },
  {
   "cell_type": "code",
   "execution_count": null,
   "metadata": {
    "collapsed": false
   },
   "outputs": [],
   "source": [
    "class Ordem:\n",
    "    PRE = 0 \n",
    "    SIM = 1 \n",
    "    POS = 2"
   ]
  },
  {
   "cell_type": "markdown",
   "metadata": {},
   "source": [
    "### A classe `ArvBin`\n",
    "Codifica uma árvore binária na qual cada nó possui um atrinbuto `info` para o dado a ser armazenado no nó,\n",
    "um atrbuto `esq` denotando a árvore da esquerda e um atributo `dir`, denotando a sub-árvore da direita.  "
   ]
  },
  {
   "cell_type": "code",
   "execution_count": null,
   "metadata": {
    "collapsed": false
   },
   "outputs": [],
   "source": [
    "class ArvBin:\n",
    "    def __init__(self, info, esq, dir):\n",
    "        self.info = info \n",
    "        self.esq = esq \n",
    "        self.dir = dir\n",
    "\n",
    "    def vazia(self):\n",
    "        return (self.info == -1) and (self.esq == None) and (self.dir == None) "
   ]
  },
  {
   "cell_type": "markdown",
   "metadata": {},
   "source": [
    "> Ex. 1.: Escreva uma função que dada uma árvore e uma ordem imprima o conteúdo dos elementos da\n",
    "árvore segundo a ordem de caminhamento dada. "
   ]
  },
  {
   "cell_type": "code",
   "execution_count": null,
   "metadata": {
    "collapsed": false
   },
   "outputs": [],
   "source": [
    "    def imprime_ordem(self, o):\n",
    "        if not self.vazia():\n",
    "            # ...\n",
    "        else: \n",
    "            print(\"Árvore vazia!\") \n",
    "    "
   ]
  },
  {
   "cell_type": "markdown",
   "metadata": {},
   "source": [
    "> Ex. 2.: Escreva uma função que calcule a altura de uma árvore."
   ]
  },
  {
   "cell_type": "code",
   "execution_count": null,
   "metadata": {
    "collapsed": false
   },
   "outputs": [],
   "source": [
    "    def altura(self):\n",
    "        h1 = 0\n",
    "        h2 = 0 \n",
    "        # ...\n",
    "        return 1 + max(h1, h2)"
   ]
  },
  {
   "cell_type": "markdown",
   "metadata": {},
   "source": [
    "> Ex. 3.: Escreva uma função que retorne o pai do elemento cujo conteúdo é igual ao dado."
   ]
  },
  {
   "cell_type": "code",
   "execution_count": null,
   "metadata": {
    "collapsed": false
   },
   "outputs": [],
   "source": [
    "    def pai(self, info):\n",
    "        # ...\n",
    "        return None"
   ]
  },
  {
   "cell_type": "markdown",
   "metadata": {},
   "source": [
    "> Ex. 4.: O percurso em nível de uma árvore binária T é aquele em que os nós são dispostos em ordem\n",
    "não decrescente de seus níveis. Escrever um algoritmo para efetuar o percurso em nível da árvore T.  \n",
    "Sugestão: utilizar uma fila."
   ]
  },
  {
   "cell_type": "code",
   "execution_count": null,
   "metadata": {
    "collapsed": false
   },
   "outputs": [],
   "source": [
    "    def imprime_nivel(self):\n",
    "        pass"
   ]
  },
  {
   "cell_type": "markdown",
   "metadata": {},
   "source": [
    "> Ex. 5.: Escrever um algoritmo não recursivo para o percurso em pré-ordem de uma árvore binária.  \n",
    "Sugestão: utilizar uma pilha."
   ]
  },
  {
   "cell_type": "code",
   "execution_count": null,
   "metadata": {
    "collapsed": false
   },
   "outputs": [],
   "source": [
    "    def imprime_preordem_iter(self):\n",
    "        pass"
   ]
  },
  {
   "cell_type": "markdown",
   "metadata": {},
   "source": [
    "> Ex. 6.: Utilizando a representação de uma expressão aritmética através de uma árvore binária, \n",
    "escrever um algoritmo simples para determinar a notação polonesa da expressão aritmética."
   ]
  },
  {
   "cell_type": "code",
   "execution_count": null,
   "metadata": {
    "collapsed": false
   },
   "outputs": [],
   "source": [
    "    def imprime_polonesa(self, exp):\n",
    "        pass"
   ]
  },
  {
   "cell_type": "code",
   "execution_count": null,
   "metadata": {
    "collapsed": false
   },
   "outputs": [],
   "source": [
    "def main():\n",
    "    raiz = ArvBin(0, ArvBin(1, ArvBin(11, None, None), ArvBin(12, None, None)), ArvBin(2, ArvBin(21, None, None), ArvBin(22, None, None))) \n",
    "    print(\"Pré-ordem\") \n",
    "    raiz.imprime_ordem(Ordem.PRE) \n",
    "    print(\"Simétrica\") \n",
    "    raiz.imprime_ordem(Ordem.SIM) \n",
    "    print(\"Pós-ordem\") \n",
    "    raiz.imprime_ordem(Ordem.POS) \n",
    "    print(\"Altura\") \n",
    "    print(raiz.altura()) \n",
    "    print(\"Pai\") \n",
    "    p = raiz.pai(22) \n",
    "    if (p):\n",
    "        print(p.info)\n",
    "    else:\n",
    "        print(\"Não achei o pai de 22\") \n",
    "    print(\"Nível\")\n",
    "    raiz.imprime_nivel()\n",
    "    print(\"Pré-ordem iterativa\") \n",
    "    raiz.imprime_preordem_iter()\n",
    "    print(\"Polonesa\") \n",
    "    raiz.imprime_polonesa(\"(1 + (3 - 4)) * 5\") \n",
    "\n",
    "if __name__== \"__main__\":\n",
    "    main()"
   ]
  }
 ],
 "metadata": {},
 "nbformat": 4,
 "nbformat_minor": 2
}
