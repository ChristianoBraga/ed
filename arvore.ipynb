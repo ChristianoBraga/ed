{
 "cells": [
  {
   "cell_type": "code",
   "execution_count": null,
   "metadata": {
    "collapsed": false
   },
   "outputs": [],
   "source": ["# <markdowncell>\n# # Lista de exerc\u00edcios de Estrutura de Dados TCC00319 - Estruturas de Dados\n#\n# Novembro de 2018\n#\n# Christiano Braga\n# Instituto de Computa\u00e7\u00e3o\n# Universidade Federal Fluminense\n#\n# http://www.ic.uff.br/~cbraga\n\n# ## \u00c1rvores bin\u00e1rias\n\n# ### Objetivo\n# Esta lista de exerc\u00edcios visa o treino dos algoritmos de caminhamento sobre uma \u00e1rvore bin\u00e1ria.\n\n# ### A classe `Ordem` \n# A classe `Ordem` \u00e9 somente uma enumera\u00e7\u00e3o representando cada um dos algoritmos de caminhamento\n# vistos no curso: pr\u00e9-ordem, sim\u00e9trico e p\u00f3s-ordem.\n\n# <codecell>\nclass Ordem:\n    PRE = 0 \n    SIM = 1 \n    POS = 2\n\n# <markdowncell>    \n# ### A classe `ArvBin`\n# Codifica uma \u00e1rvore bin\u00e1ria na qual cada n\u00f3 possui um atrinbuto `info` para o dado a ser armazenado no n\u00f3,\n# um atrbuto `esq` denotando a \u00e1rvore da esquerda e um atributo `dir`, denotando a sub-\u00e1rvore da direita.  \n\n# <codecell>\nclass ArvBin:\n    def __init__(self, info, esq, dir):\n        self.info = info \n        self.esq = esq \n        self.dir = dir\n\n    def vazia(self):\n        return (self.info == -1) and (self.esq == None) and (self.dir == None) \n\n# <markdowncell>\n# > Ex. 1.: Escreva uma fun\u00e7\u00e3o que dada uma \u00e1rvore e uma ordem imprima o conte\u00fado dos elementos da\n# \u00e1rvore segundo a ordem de caminhamento dada. \n\n# <codecell>\n    def imprime_ordem(self, o):\n        if not self.vazia():\n            # ...\n        else: \n            print(\"\u00c1rvore vazia!\") \n    \n# <markdowncell>\n# > Ex. 2.: Escreva uma fun\u00e7\u00e3o que calcule a altura de uma \u00e1rvore.\n\n# <codecell>\n    def altura(self):\n        h1 = 0\n        h2 = 0 \n        # ...\n        return 1 + max(h1, h2)\n\n# <markdowncell>    \n# > Ex. 3.: Escreva uma fun\u00e7\u00e3o que retorne o pai do elemento cujo conte\u00fado \u00e9 igual ao dado.\n\n# <codecell>\n    def pai(self, info):\n        # ...\n        return None\n\n# <markdowncell>    \n# > Ex. 4.: O percurso em ni\u0301vel de uma a\u0301rvore bina\u0301ria T e\u0301 aquele em que os no\u0301s sa\u0303o dispostos em ordem\n# na\u0303o decrescente de seus ni\u0301veis. Escrever um algoritmo para efetuar o percurso em ni\u0301vel da a\u0301rvore T.  \n# Sugesta\u0303o: utilizar uma fila.\n\n# <codecell>\n    def imprime_nivel(self):\n        pass\n\n# <markdowncell>    \n# > Ex. 5.: Escrever um algoritmo na\u0303o recursivo para o percurso em pre\u0301-ordem de uma a\u0301rvore bina\u0301ria.  \n# Sugesta\u0303o: utilizar uma pilha.\n\n# <codecell>\n    def imprime_preordem_iter(self):\n        pass\n\n# <markdowncell>    \n# > Ex. 6.: Utilizando a representac\u0327a\u0303o de uma expressa\u0303o aritme\u0301tica atrave\u0301s de uma a\u0301rvore bina\u0301ria, \n# escrever um algoritmo simples para determinar a notac\u0327a\u0303o polonesa da expressa\u0303o aritme\u0301tica.\n\n# <codecell>\n    def imprime_polonesa(self, exp):\n        pass\n\n# <codecell>    \ndef main():\n    raiz = ArvBin(0, ArvBin(1, ArvBin(11, None, None), ArvBin(12, None, None)), ArvBin(2, ArvBin(21, None, None), ArvBin(22, None, None))) \n    print(\"Pr\u00e9-ordem\") \n    raiz.imprime_ordem(Ordem.PRE) \n    print(\"Sim\u00e9trica\") \n    raiz.imprime_ordem(Ordem.SIM) \n    print(\"P\u00f3s-ordem\") \n    raiz.imprime_ordem(Ordem.POS) \n    print(\"Altura\") \n    print(raiz.altura()) \n    print(\"Pai\") \n    p = raiz.pai(22) \n    if (p):\n        print(p.info)\n    else:\n        print(\"N\u00e3o achei o pai de 22\") \n    print(\"N\u00edvel\")\n    raiz.imprime_nivel()\n    print(\"Pr\u00e9-ordem iterativa\") \n    raiz.imprime_preordem_iter()\n    print(\"Polonesa\") \n    raiz.imprime_polonesa(\"(1 + (3 - 4)) * 5\") \n\nif __name__== \"__main__\":\n    main()\n"]
  }
 ],
 "metadata": {
  "kernelspec": {
   "display_name": "Python 3",
   "language": "python",
   "name": "python3"
  },
  "language_info": {
   "codemirror_mode": {
    "name": "ipython",
    "version": 3
   },
   "file_extension": ".py",
   "mimetype": "text/x-python",
   "name": "python",
   "nbconvert_exporter": "python",
   "pygments_lexer": "ipython3",
   "version": "3.4.2"
  }
 },
 "nbformat": 4,
 "nbformat_minor": 0
}