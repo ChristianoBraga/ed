{
 "cells": [
  {
   "cell_type": "markdown",
   "metadata": {},
   "source": [
    "# Estruturas de Dados\n",
    "\n",
    "Agosto de 2018\n",
    "\n",
    "Christiano Braga  \n",
    "Instituto de Computação  \n",
    "Universidade Federal Fluminense  \n",
    "\n",
    "http://www.ic.uff.br/~cbraga"
   ]
  },
  {
   "cell_type": "markdown",
   "metadata": {},
   "source": [
    "## Apresentação\n",
    "\n",
    "Este notebook visa apoiar o ensino de _Estruturas de Dados para Engenharia_ ilustrando e exercitando os conceitos apresentados nos [slides](https://onedrive.live.com/?authkey=%21AIZLFUL1M2GDyyk&cid=589E18067CE99545&id=589E18067CE99545%211868&parId=589E18067CE99545%211737&o=OneUp) de F. Protti e J. Szwarcfiter na linguagem [Python 3](https://www.python.org/)."
   ]
  },
  {
   "cell_type": "markdown",
   "metadata": {},
   "source": [
    "## 1. Introdução"
   ]
  },
  {
   "cell_type": "markdown",
   "metadata": {},
   "source": [
    "### A linguagem utilizada"
   ]
  },
  {
   "cell_type": "markdown",
   "metadata": {},
   "source": [
    "#### Vetores\n",
    "\n",
    "Uma diferença _muito_ importante entre os vetores nos slides e o vetores em Python (ou em C): o primeiro índice nos slides é $1$ ao passo que em Python é `0`."
   ]
  },
  {
   "cell_type": "code",
   "execution_count": 3,
   "metadata": {},
   "outputs": [
    {
     "name": "stdout",
     "output_type": "stream",
     "text": [
      "a\n"
     ]
    }
   ],
   "source": [
    "x = ['a', 'b', 'c', 'd', 'e', 'f']\n",
    "i = 0\n",
    "print(x[i])"
   ]
  },
  {
   "cell_type": "markdown",
   "metadata": {},
   "source": [
    "#### Matrizes\n",
    "\n",
    "Em Python, matrizes são criadas \"linha-a-linha\"."
   ]
  },
  {
   "cell_type": "code",
   "execution_count": 4,
   "metadata": {},
   "outputs": [
    {
     "name": "stdout",
     "output_type": "stream",
     "text": [
      "h\n",
      "p\n"
     ]
    }
   ],
   "source": [
    "y = [['g', 'h', 'i', 'j', 'k', 'l'],\n",
    "     ['m', 'n', 'o', 'p', 'q', 'r']]\n",
    "print(y[0][1])\n",
    "print(y[1][3])"
   ]
  },
  {
   "cell_type": "markdown",
   "metadata": {},
   "source": [
    "Note que:\n",
    "* Em Python, a matriz  \n",
    "`y = [['g', 'h', 'i', 'j', 'k', 'l'],  \n",
    "     ['m', 'n', 'o', 'p', 'q', 'r']]`  \n",
    "codifica  \n",
    "$\n",
    "y = \\left[\\begin{array}{cccccc}\n",
    "g & h & i & j & k & l \\\\\n",
    "m & n & o & p & q & r\n",
    "\\end{array}\\right].\n",
    "$  \n",
    "* Em Python, escrevemos `y[0][1]` ao invés da notação matemática y[0,1].\n",
    "* Em Python, o primeiro elemento é indexado por $0$ e não $1$."
   ]
  },
  {
   "cell_type": "markdown",
   "metadata": {},
   "source": [
    "#### Procedimentos\n",
    "\n",
    "Um procedimento não retorna valor. O resultado do cálculo realizado pelo procedimento é armazenado numa variável declarada num bloco mais externo à _declaração_ do procedimento.\n",
    "\n",
    "Blocos são delimitados por tabs."
   ]
  },
  {
   "cell_type": "code",
   "execution_count": 5,
   "metadata": {},
   "outputs": [
    {
     "name": "stdout",
     "output_type": "stream",
     "text": [
      "0\n",
      "1\n"
     ]
    }
   ],
   "source": [
    "i = 0\n",
    "\n",
    "def proc_A():\n",
    "    global i\n",
    "    i = 1\n",
    "\n",
    "print(i)\n",
    "proc_A()\n",
    "print(i)"
   ]
  },
  {
   "cell_type": "markdown",
   "metadata": {},
   "source": [
    "#### Funções\n",
    "\n",
    "Funções retornam valores."
   ]
  },
  {
   "cell_type": "code",
   "execution_count": 6,
   "metadata": {},
   "outputs": [
    {
     "name": "stdout",
     "output_type": "stream",
     "text": [
      "1\n"
     ]
    }
   ],
   "source": [
    "def fun_A(B):\n",
    "    return B + 1\n",
    "\n",
    "i = fun_A(0)\n",
    "print(i)"
   ]
  },
  {
   "cell_type": "markdown",
   "metadata": {},
   "source": [
    "#### Condicionais"
   ]
  },
  {
   "cell_type": "code",
   "execution_count": 7,
   "metadata": {},
   "outputs": [
    {
     "name": "stdout",
     "output_type": "stream",
     "text": [
      "0\n"
     ]
    }
   ],
   "source": [
    "i = 0\n",
    "\n",
    "if i == 0:\n",
    "    print(i)\n",
    "else:\n",
    "    print(i+1)"
   ]
  },
  {
   "cell_type": "markdown",
   "metadata": {},
   "source": [
    "#### Repetições"
   ]
  },
  {
   "cell_type": "code",
   "execution_count": 8,
   "metadata": {},
   "outputs": [
    {
     "name": "stdout",
     "output_type": "stream",
     "text": [
      "5\n",
      "4\n",
      "3\n",
      "2\n",
      "1\n"
     ]
    }
   ],
   "source": [
    "# enquanto\n",
    "i = 5\n",
    "while (i > 0):\n",
    "    print(i)\n",
    "    i = i - 1"
   ]
  },
  {
   "cell_type": "code",
   "execution_count": 9,
   "metadata": {},
   "outputs": [
    {
     "name": "stdout",
     "output_type": "stream",
     "text": [
      "a\n",
      "b\n",
      "c\n",
      "d\n",
      "e\n",
      "f\n"
     ]
    }
   ],
   "source": [
    "# para\n",
    "# x é um vetor \n",
    "x = ['a', 'b', 'c', 'd', 'e', 'f']\n",
    "\n",
    "for i in x:\n",
    "    print(i)"
   ]
  },
  {
   "cell_type": "code",
   "execution_count": 10,
   "metadata": {},
   "outputs": [
    {
     "name": "stdout",
     "output_type": "stream",
     "text": [
      "g\n",
      "h\n",
      "i\n",
      "j\n",
      "k\n",
      "l\n",
      "m\n",
      "n\n",
      "o\n",
      "p\n",
      "q\n",
      "r\n"
     ]
    }
   ],
   "source": [
    "# y é uma matriz\n",
    "y = [['g', 'h', 'i', 'j', 'k', 'l'],\n",
    "     ['m', 'n', 'o', 'p', 'q', 'r']]\n",
    "\n",
    "i = 0\n",
    "j = 0\n",
    "while i < len(y):\n",
    "    while j < len(y[i]):\n",
    "        print(y[i][j])\n",
    "        j = j + 1\n",
    "    i = i + 1\n",
    "    j = 0"
   ]
  },
  {
   "cell_type": "code",
   "execution_count": 11,
   "metadata": {},
   "outputs": [
    {
     "name": "stdout",
     "output_type": "stream",
     "text": [
      "0\n",
      "1\n",
      "2\n",
      "3\n",
      "4\n",
      "5\n"
     ]
    }
   ],
   "source": [
    "# z é um conjunto: não tem repetições ou ordem.\n",
    "z = {0,5,1,3,2,0,3,4,2,5}\n",
    "for i in z:\n",
    "    print(i)"
   ]
  },
  {
   "cell_type": "markdown",
   "metadata": {},
   "source": [
    "#### _Repetir até_"
   ]
  },
  {
   "cell_type": "code",
   "execution_count": 12,
   "metadata": {},
   "outputs": [
    {
     "name": "stdout",
     "output_type": "stream",
     "text": [
      "g\n",
      "n\n"
     ]
    }
   ],
   "source": [
    "# repetir\n",
    "#    listar x[i,j]\n",
    "#    i := i - aaa\n",
    "#    j := j + 1\n",
    "# até que i < j\n",
    "\n",
    "x = [['g', 'h', 'i', 'j', 'k', 'l'],\n",
    "     ['m', 'n', 'o', 'p', 'q', 'r']]\n",
    "\n",
    "def faz_repeticao(x, i, j):\n",
    "    print(x[i][j])\n",
    "    i = i + 1\n",
    "    j = j + 1\n",
    "    return (i, j)\n",
    "\n",
    "i = 0\n",
    "j = 0\n",
    "(i, j) = faz_repeticao(x, i, j)\n",
    "while i < len(y) and j < len(y[i]):\n",
    "        (i, j) = faz_repeticao(x, i, j)"
   ]
  },
  {
   "cell_type": "markdown",
   "metadata": {},
   "source": [
    "### Inversão de sequências\n",
    "\n",
    "Não necessitamos percorrer todos os elementos do vetor, basta ir até a metade.\n",
    "A função `math.floor(n)` (que codifica _piso(n)_) nos dá o maior inteiro menor ou igual a `n`."
   ]
  },
  {
   "cell_type": "code",
   "execution_count": 13,
   "metadata": {},
   "outputs": [
    {
     "name": "stdout",
     "output_type": "stream",
     "text": [
      "O vetor inicial é [2, 3, 1, 6, 5] .\n",
      "Ao trocar os elementos nas posições (0, 4) obtemos [5, 3, 1, 6, 2] .\n",
      "Ao trocar os elementos nas posições (1, 3) obtemos [5, 6, 1, 3, 2] .\n"
     ]
    }
   ],
   "source": [
    "from math import floor # A função floor implementa o piso.\n",
    "\n",
    "S = [2, 3, 1, 6, 5]\n",
    "n = len(S) - 1\n",
    "print('O vetor inicial é', S,'.')\n",
    "for i in range(floor(n / 2)): # A função range cria um intervalo a partir de 0.\n",
    "    temp = S[i]\n",
    "    S[i] = S[n - i]\n",
    "    S[n - i] = temp\n",
    "    print('Ao trocar os elementos nas posições', (i, n - i), 'obtemos', S, '.')"
   ]
  },
  {
   "cell_type": "markdown",
   "metadata": {},
   "source": [
    "## 2. Recursividade"
   ]
  },
  {
   "cell_type": "markdown",
   "metadata": {},
   "source": [
    "### Cálculo do fatorial"
   ]
  },
  {
   "cell_type": "code",
   "execution_count": 14,
   "metadata": {},
   "outputs": [
    {
     "data": {
      "text/plain": [
       "120"
      ]
     },
     "execution_count": 14,
     "metadata": {},
     "output_type": "execute_result"
    }
   ],
   "source": [
    "def fatorial(i):\n",
    "    if i <= 1:\n",
    "        return 1\n",
    "    else:\n",
    "        return i * fatorial(i - 1)\n",
    "    \n",
    "fatorial(5)"
   ]
  },
  {
   "cell_type": "markdown",
   "metadata": {},
   "source": [
    "### Recursividade passo-a-passo"
   ]
  },
  {
   "cell_type": "code",
   "execution_count": 15,
   "metadata": {},
   "outputs": [
    {
     "name": "stdout",
     "output_type": "stream",
     "text": [
      "5 * 4 * 3 * 2 * 1\n"
     ]
    },
    {
     "data": {
      "text/plain": [
       "120"
      ]
     },
     "execution_count": 15,
     "metadata": {},
     "output_type": "execute_result"
    }
   ],
   "source": [
    "def fatorial(i):\n",
    "    if i <= 1:\n",
    "        print(i)\n",
    "        return 1\n",
    "    else:\n",
    "        print(i, '*', end=' ') # O parâmetro end=' ' é necessário para eveitar a quebra de linha... =(\n",
    "        return i * fatorial(i - 1)\n",
    "\n",
    "fatorial(5)"
   ]
  },
  {
   "cell_type": "markdown",
   "metadata": {},
   "source": [
    "### Fatorial iterativo"
   ]
  },
  {
   "cell_type": "code",
   "execution_count": 16,
   "metadata": {},
   "outputs": [],
   "source": [
    "def fatorial(n):\n",
    "    fat = (n + 1) * [1] # Inicializa o vetor fat com 1 em todas as posições.\n",
    "    for j in range(1, n + 1):\n",
    "        fat[j] = j * fat[j - 1]\n",
    "    return fat"
   ]
  },
  {
   "cell_type": "code",
   "execution_count": 17,
   "metadata": {},
   "outputs": [
    {
     "data": {
      "text/plain": [
       "[1, 1, 2, 6, 24, 120]"
      ]
     },
     "execution_count": 17,
     "metadata": {},
     "output_type": "execute_result"
    }
   ],
   "source": [
    "fatorial(5)"
   ]
  },
  {
   "cell_type": "markdown",
   "metadata": {},
   "source": [
    "Sem o uso da variável local `fat`."
   ]
  },
  {
   "cell_type": "code",
   "execution_count": 18,
   "metadata": {},
   "outputs": [],
   "source": [
    "def fatorial(n):\n",
    "    r = 1\n",
    "    while n > 0:\n",
    "        r = n * r\n",
    "        n = n - 1\n",
    "    return r"
   ]
  },
  {
   "cell_type": "code",
   "execution_count": 19,
   "metadata": {},
   "outputs": [
    {
     "data": {
      "text/plain": [
       "120"
      ]
     },
     "execution_count": 19,
     "metadata": {},
     "output_type": "execute_result"
    }
   ],
   "source": [
    "fatorial(5)"
   ]
  },
  {
   "cell_type": "markdown",
   "metadata": {},
   "source": [
    "### Torre de Hanoi"
   ]
  },
  {
   "cell_type": "code",
   "execution_count": 20,
   "metadata": {},
   "outputs": [],
   "source": [
    "def hanoi(n):\n",
    "    A = list(range(n))\n",
    "    B = []\n",
    "    C = []\n",
    "    hanoi_aux(n, A, B, C)\n",
    "    \n",
    "def hanoi_aux(n, A, B, C):\n",
    "    print(A, B, C)\n",
    "    if n > 0:\n",
    "        hanoi_aux(n - 1, A, C, B)\n",
    "        B.append(A.pop())         # Trata vetores como _pilhas_. \n",
    "        hanoi_aux(n - 1, C, B, A) # Ficará mais claro mais à frente!   "
   ]
  },
  {
   "cell_type": "code",
   "execution_count": 21,
   "metadata": {
    "scrolled": true
   },
   "outputs": [
    {
     "name": "stdout",
     "output_type": "stream",
     "text": [
      "[0, 1] [] []\n",
      "[0, 1] [] []\n",
      "[0, 1] [] []\n",
      "[] [1] [0]\n",
      "[1] [0] []\n",
      "[1] [] [0]\n",
      "[] [0, 1] []\n"
     ]
    }
   ],
   "source": [
    "hanoi(2)"
   ]
  },
  {
   "cell_type": "markdown",
   "metadata": {},
   "source": [
    "## 3. Complexidade de algoritmos"
   ]
  },
  {
   "cell_type": "markdown",
   "metadata": {},
   "source": [
    "### Soma de matrizes"
   ]
  },
  {
   "cell_type": "code",
   "execution_count": 22,
   "metadata": {},
   "outputs": [],
   "source": [
    "# Soma de duas matrizes de dimensão n x m\n",
    "def soma_de_matrizes(n, m, A, B, C):\n",
    "    passos = 0\n",
    "    for i in range(n):\n",
    "        for j in range(m):\n",
    "            C[i][j] = (A[i][j] + B[i][j])    \n",
    "            passos = passos + 1\n",
    "    print('Número de passos =', passos)"
   ]
  },
  {
   "cell_type": "code",
   "execution_count": 23,
   "metadata": {},
   "outputs": [
    {
     "name": "stdout",
     "output_type": "stream",
     "text": [
      "Número de passos = 9\n",
      "[[2, 3, 7], [3, 0, 6], [-1, 1, 1]]\n"
     ]
    }
   ],
   "source": [
    "A = [[2,3,5], \n",
    "     [0,1,2], \n",
    "     [3,0,1]]\n",
    "B = [[0,0,2], \n",
    "     [3,-1,4], \n",
    "     [-4,1,0]]\n",
    "C = [[0,0,0], \n",
    "     [0,0,0], \n",
    "     [0,0,0]] \n",
    "soma_de_matrizes(3, 3, A, B, C)\n",
    "print(C)"
   ]
  },
  {
   "cell_type": "markdown",
   "metadata": {},
   "source": [
    "### Multiplicação de matrizes"
   ]
  },
  {
   "cell_type": "code",
   "execution_count": 24,
   "metadata": {},
   "outputs": [],
   "source": [
    "# Multiplicação de duas matrizes de dimensão n x m\n",
    "def multiplicação_de_matrizes(n, m, A, B, C):\n",
    "    passos = 0\n",
    "    for i in range(n):\n",
    "        for j in range(m):\n",
    "            C[i][j] = 0\n",
    "            for k in range(n):\n",
    "                C[i][j] = C[i][j] + A[i][k] * B[k][j]\n",
    "                passos = passos + 1\n",
    "    print('Número de passos =', passos)"
   ]
  },
  {
   "cell_type": "code",
   "execution_count": 25,
   "metadata": {},
   "outputs": [
    {
     "name": "stdout",
     "output_type": "stream",
     "text": [
      "Número de passos = 27\n",
      "[[-11, 2, 16], [-5, 1, 4], [-4, 1, 6]]\n"
     ]
    }
   ],
   "source": [
    "A = [[2,3,5], \n",
    "     [0,1,2], \n",
    "     [3,0,1]]\n",
    "B = [[0,0,2], \n",
    "     [3,-1,4], \n",
    "     [-4,1,0]]\n",
    "C = [[0,0,0], \n",
    "     [0,0,0], \n",
    "     [0,0,0]] \n",
    "multiplicação_de_matrizes(3, 3, A, B, C)\n",
    "print(C)"
   ]
  },
  {
   "cell_type": "markdown",
   "metadata": {},
   "source": [
    "## 5. Listas lineares"
   ]
  },
  {
   "cell_type": "markdown",
   "metadata": {},
   "source": [
    "Este algoritmo de busca linear difere um pouco do slide.\n",
    "Podemos obter o tamanho do vetor através da função `len`. \n",
    "Utilizamos uma repetição definida (for) para testar a pertinência de `x` em `V`.\n",
    "Como os índices de vetores em Python começam em `0`, a função retorna `-1`\n",
    "se `x` não está no vetor.\n",
    "Em Python uma função pode retornar mais de um valor.\n",
    "\n",
    "Nota: Optamos por uma implementação diferente a do slide pois usualmente um programa não pode acessar um elemento de um vetor cujo índice é maior do que o tamanho do vetor. O uso de um sentinela como o do slide necessitaria que este acesso fosse possível. "
   ]
  },
  {
   "cell_type": "code",
   "execution_count": 26,
   "metadata": {},
   "outputs": [],
   "source": [
    "def BUSCA1(x):\n",
    "    global V\n",
    "    passos = 0\n",
    "    for i in range(len(V)):\n",
    "        if V[i] == x:\n",
    "            return i\n",
    "    return -1"
   ]
  },
  {
   "cell_type": "code",
   "execution_count": 27,
   "metadata": {},
   "outputs": [
    {
     "data": {
      "text/plain": [
       "3"
      ]
     },
     "execution_count": 27,
     "metadata": {},
     "output_type": "execute_result"
    }
   ],
   "source": [
    "V = [1, 2, 4, 0]\n",
    "BUSCA1(0)"
   ]
  },
  {
   "cell_type": "code",
   "execution_count": 28,
   "metadata": {},
   "outputs": [
    {
     "data": {
      "text/plain": [
       "-1"
      ]
     },
     "execution_count": 28,
     "metadata": {},
     "output_type": "execute_result"
    }
   ],
   "source": [
    "BUSCA1(3)"
   ]
  },
  {
   "cell_type": "markdown",
   "metadata": {},
   "source": [
    "A função `BUSCA_ORD` refina `BUSCA1` e considera que o vetor `V` está ordenado."
   ]
  },
  {
   "cell_type": "code",
   "execution_count": 29,
   "metadata": {},
   "outputs": [],
   "source": [
    "def BUSCA_ORD(x):\n",
    "    global V\n",
    "    passos = 0\n",
    "    for i in range(len(V)):\n",
    "        if V[i] == x:\n",
    "            return i\n",
    "        else:\n",
    "            if V[i] > x:\n",
    "                return -1\n",
    "    return -1"
   ]
  },
  {
   "cell_type": "code",
   "execution_count": 30,
   "metadata": {},
   "outputs": [
    {
     "data": {
      "text/plain": [
       "0"
      ]
     },
     "execution_count": 30,
     "metadata": {},
     "output_type": "execute_result"
    }
   ],
   "source": [
    "V = [0,1,2,4]\n",
    "BUSCA_ORD(0)"
   ]
  },
  {
   "cell_type": "code",
   "execution_count": 31,
   "metadata": {},
   "outputs": [
    {
     "data": {
      "text/plain": [
       "-1"
      ]
     },
     "execution_count": 31,
     "metadata": {},
     "output_type": "execute_result"
    }
   ],
   "source": [
    "BUSCA_ORD(3)"
   ]
  },
  {
   "cell_type": "markdown",
   "metadata": {},
   "source": [
    "## 6. Manipulação de listas lineares"
   ]
  },
  {
   "cell_type": "markdown",
   "metadata": {},
   "source": [
    "### Inserção de um elemento num vetor\n",
    "\n",
    "As variáveis `V`, `n` e `M` denotam o vetor, número de elementos de `V`, e o espaço alocado para `V`, respectivamente. Insere retorna o índice da posição onde `x` foi inserido e `-1` caso contrário."
   ]
  },
  {
   "cell_type": "code",
   "execution_count": 32,
   "metadata": {},
   "outputs": [],
   "source": [
    "def insere(x):\n",
    "    global n, M, V\n",
    "    if n <= M:\n",
    "        if BUSCA1(x) == -1:\n",
    "            V[n] = x\n",
    "            return n + 1\n",
    "        else:\n",
    "            return -1\n",
    "    else:\n",
    "        return -1"
   ]
  },
  {
   "cell_type": "code",
   "execution_count": 33,
   "metadata": {},
   "outputs": [
    {
     "name": "stdout",
     "output_type": "stream",
     "text": [
      "[0, 1, 2, 4, 3, None]\n"
     ]
    }
   ],
   "source": [
    "V = [0,1,2,4,None,None] # None representa um espaço de memória não utilizado.\n",
    "M = len(V)              # Espaço alocado para V.\n",
    "n = 4                   # Número de elementos em V.\n",
    "insere(3)\n",
    "n = n + 1\n",
    "print(V)"
   ]
  },
  {
   "cell_type": "markdown",
   "metadata": {},
   "source": [
    "### Inserção num vetor ordenado"
   ]
  },
  {
   "cell_type": "code",
   "execution_count": 34,
   "metadata": {},
   "outputs": [],
   "source": [
    "def insere_ord(x):\n",
    "    global n, M, V\n",
    "    if n <= M:\n",
    "        V[n] = x;\n",
    "        i = 0;\n",
    "        while V[i] < x and i < M:\n",
    "            i = i + 1\n",
    "        if i < n and V[i] != x:\n",
    "            for j in range(n, i, -1): # range(n,i, -1) produz \n",
    "                V[j] = V[j - 1]       # um intervalo decrescente\n",
    "            V[i] = x\n",
    "            n = n + 1\n",
    "        else:\n",
    "            if i == n + 1:\n",
    "                n = n + 1\n",
    "            else:\n",
    "                return -1\n",
    "    else:\n",
    "        return -1\n",
    "            "
   ]
  },
  {
   "cell_type": "code",
   "execution_count": 35,
   "metadata": {},
   "outputs": [
    {
     "name": "stdout",
     "output_type": "stream",
     "text": [
      "[0, 1, 2, 3, 4]\n"
     ]
    }
   ],
   "source": [
    "V = [0,1,2,4,None]\n",
    "M = len(V)\n",
    "n = 4\n",
    "insere_ord(3)\n",
    "print(V)"
   ]
  },
  {
   "cell_type": "markdown",
   "metadata": {},
   "source": [
    "### Algoritmo de remoção"
   ]
  },
  {
   "cell_type": "code",
   "execution_count": 36,
   "metadata": {},
   "outputs": [],
   "source": [
    "def remove(x):\n",
    "    global n, M, V\n",
    "    if M == 0:\n",
    "        return -1\n",
    "    else:\n",
    "        j = BUSCA1(x)\n",
    "        if j == -1:\n",
    "            return -1\n",
    "        else:\n",
    "            for i in range(j, n - 1): # Note que n é contado \n",
    "                V[i] = V[i+1]         # a partir de 1 e j a \n",
    "                V[i + 1] = None       # a partir de 0\n",
    "            n = n - 1"
   ]
  },
  {
   "cell_type": "code",
   "execution_count": 37,
   "metadata": {},
   "outputs": [
    {
     "name": "stdout",
     "output_type": "stream",
     "text": [
      "[0, 1, 3, 4, None]\n"
     ]
    }
   ],
   "source": [
    "V = [0, 1, 2, 3, 4]\n",
    "n = M = len(V)\n",
    "remove(2)\n",
    "print(V)"
   ]
  },
  {
   "cell_type": "code",
   "execution_count": 38,
   "metadata": {},
   "outputs": [
    {
     "data": {
      "text/plain": [
       "-1"
      ]
     },
     "execution_count": 38,
     "metadata": {},
     "output_type": "execute_result"
    }
   ],
   "source": [
    "BUSCA1(2)"
   ]
  },
  {
   "cell_type": "markdown",
   "metadata": {},
   "source": [
    "## 8. Busca binária"
   ]
  },
  {
   "cell_type": "code",
   "execution_count": 78,
   "metadata": {},
   "outputs": [],
   "source": [
    "def BUSCA_BIN(x):\n",
    "    global n, V\n",
    "    INF = 0\n",
    "    SUP = n - 1\n",
    "    BUSCA_BIN = -1\n",
    "    while INF <= SUP and INF < n:\n",
    "        MEIO = floor((INF+SUP)/2)\n",
    "        print(V[MEIO])\n",
    "        if V[MEIO] == x:\n",
    "            BUSCA_BIN = MEIO\n",
    "            INF = SUP + 1\n",
    "        else:\n",
    "            if V[MEIO] < x:\n",
    "                INF = MEIO + 1\n",
    "            else:\n",
    "                SUP = MEIO - 1\n",
    "    return BUSCA_BIN"
   ]
  },
  {
   "cell_type": "code",
   "execution_count": 79,
   "metadata": {},
   "outputs": [
    {
     "name": "stdout",
     "output_type": "stream",
     "text": [
      "16\n",
      "9\n",
      "11\n",
      "15\n"
     ]
    },
    {
     "data": {
      "text/plain": [
       "-1"
      ]
     },
     "execution_count": 79,
     "metadata": {},
     "output_type": "execute_result"
    }
   ],
   "source": [
    "V = [1, 3, 6, 9, 10, 11, 15, 16, 19, 20, 22, 26, 28, 31, 33, 34]\n",
    "n = len(V)\n",
    "BUSCA_BIN(14)"
   ]
  },
  {
   "cell_type": "code",
   "execution_count": 80,
   "metadata": {},
   "outputs": [
    {
     "name": "stdout",
     "output_type": "stream",
     "text": [
      "16\n"
     ]
    },
    {
     "data": {
      "text/plain": [
       "7"
      ]
     },
     "execution_count": 80,
     "metadata": {},
     "output_type": "execute_result"
    }
   ],
   "source": [
    "BUSCA_BIN(16)"
   ]
  },
  {
   "cell_type": "code",
   "execution_count": 81,
   "metadata": {},
   "outputs": [
    {
     "name": "stdout",
     "output_type": "stream",
     "text": [
      "16\n",
      "26\n",
      "31\n"
     ]
    },
    {
     "data": {
      "text/plain": [
       "13"
      ]
     },
     "execution_count": 81,
     "metadata": {},
     "output_type": "execute_result"
    }
   ],
   "source": [
    "BUSCA_BIN(31)"
   ]
  },
  {
   "cell_type": "markdown",
   "metadata": {},
   "source": [
    "## 9. Ordenação de Listas Lineares"
   ]
  },
  {
   "cell_type": "markdown",
   "metadata": {},
   "source": [
    "### Ordenação por seleção"
   ]
  },
  {
   "cell_type": "code",
   "execution_count": 102,
   "metadata": {},
   "outputs": [],
   "source": [
    "def seleção():\n",
    "    global n, V\n",
    "    troca = 0\n",
    "    for i in range(n):\n",
    "        print(V)\n",
    "        MENOR = i\n",
    "        for j in range(i, n):\n",
    "            if V[j] < V[MENOR]:\n",
    "                MENOR = j\n",
    "        AUX = V[i]\n",
    "        V[i] = V[MENOR]\n",
    "        V[MENOR] = AUX\n",
    "        troca = troca + 1\n",
    "    print(V)\n",
    "    print(\"Trocas efetuadas:\", troca)"
   ]
  },
  {
   "cell_type": "code",
   "execution_count": 114,
   "metadata": {},
   "outputs": [
    {
     "name": "stdout",
     "output_type": "stream",
     "text": [
      "[10, 5, 9, -2, 13, -8, 4, 0, 1, -5, 7, 6]\n",
      "[-8, 5, 9, -2, 13, 10, 4, 0, 1, -5, 7, 6]\n",
      "[-8, -5, 9, -2, 13, 10, 4, 0, 1, 5, 7, 6]\n",
      "[-8, -5, -2, 9, 13, 10, 4, 0, 1, 5, 7, 6]\n",
      "[-8, -5, -2, 0, 13, 10, 4, 9, 1, 5, 7, 6]\n",
      "[-8, -5, -2, 0, 1, 10, 4, 9, 13, 5, 7, 6]\n",
      "[-8, -5, -2, 0, 1, 4, 10, 9, 13, 5, 7, 6]\n",
      "[-8, -5, -2, 0, 1, 4, 5, 9, 13, 10, 7, 6]\n",
      "[-8, -5, -2, 0, 1, 4, 5, 6, 13, 10, 7, 9]\n",
      "[-8, -5, -2, 0, 1, 4, 5, 6, 7, 10, 13, 9]\n",
      "[-8, -5, -2, 0, 1, 4, 5, 6, 7, 9, 13, 10]\n",
      "[-8, -5, -2, 0, 1, 4, 5, 6, 7, 9, 10, 13]\n",
      "[-8, -5, -2, 0, 1, 4, 5, 6, 7, 9, 10, 13]\n",
      "Trocas efetuadas: 12\n"
     ]
    }
   ],
   "source": [
    "V = [10, 5, 9, -2, 13, -8, 4, 0, 1, -5, 7, 6]\n",
    "n = len(V)\n",
    "seleção()"
   ]
  },
  {
   "cell_type": "code",
   "execution_count": 115,
   "metadata": {},
   "outputs": [
    {
     "name": "stdout",
     "output_type": "stream",
     "text": [
      "[20, 13, 17, -9, 4, 8, 2, -1, -5, 0, -11, 6]\n",
      "[-11, 13, 17, -9, 4, 8, 2, -1, -5, 0, 20, 6]\n",
      "[-11, -9, 17, 13, 4, 8, 2, -1, -5, 0, 20, 6]\n",
      "[-11, -9, -5, 13, 4, 8, 2, -1, 17, 0, 20, 6]\n",
      "[-11, -9, -5, -1, 4, 8, 2, 13, 17, 0, 20, 6]\n",
      "[-11, -9, -5, -1, 0, 8, 2, 13, 17, 4, 20, 6]\n",
      "[-11, -9, -5, -1, 0, 2, 8, 13, 17, 4, 20, 6]\n",
      "[-11, -9, -5, -1, 0, 2, 4, 13, 17, 8, 20, 6]\n",
      "[-11, -9, -5, -1, 0, 2, 4, 6, 17, 8, 20, 13]\n",
      "[-11, -9, -5, -1, 0, 2, 4, 6, 8, 17, 20, 13]\n",
      "[-11, -9, -5, -1, 0, 2, 4, 6, 8, 13, 20, 17]\n",
      "[-11, -9, -5, -1, 0, 2, 4, 6, 8, 13, 17, 20]\n",
      "[-11, -9, -5, -1, 0, 2, 4, 6, 8, 13, 17, 20]\n",
      "Trocas efetuadas: 12\n"
     ]
    }
   ],
   "source": [
    "V = [20, 13, 17, -9, 4, 8, 2, -1, -5, 0, -11, 6]\n",
    "n = len(V)\n",
    "seleção()"
   ]
  },
  {
   "cell_type": "markdown",
   "metadata": {},
   "source": [
    "### Ordenação pelo método da bolha"
   ]
  },
  {
   "cell_type": "code",
   "execution_count": 116,
   "metadata": {},
   "outputs": [],
   "source": [
    "def bolha():\n",
    "    global n, V\n",
    "    for i in range(n):\n",
    "        BOLHA = i\n",
    "        while BOLHA > 0:\n",
    "            print(V)\n",
    "            if V[BOLHA] < V[BOLHA - 1]:\n",
    "                aux = V[BOLHA-1]\n",
    "                V[BOLHA - 1] = V[BOLHA]\n",
    "                V[BOLHA] = aux\n",
    "                BOLHA = BOLHA -1\n",
    "            else:\n",
    "                BOLHA = 0"
   ]
  },
  {
   "cell_type": "code",
   "execution_count": 117,
   "metadata": {},
   "outputs": [
    {
     "name": "stdout",
     "output_type": "stream",
     "text": [
      "[10, 5, 9, -2, 13, -8, 4, 0, 1, -5, 7, 6]\n",
      "[5, 10, 9, -2, 13, -8, 4, 0, 1, -5, 7, 6]\n",
      "[5, 9, 10, -2, 13, -8, 4, 0, 1, -5, 7, 6]\n",
      "[5, 9, 10, -2, 13, -8, 4, 0, 1, -5, 7, 6]\n",
      "[5, 9, -2, 10, 13, -8, 4, 0, 1, -5, 7, 6]\n",
      "[5, -2, 9, 10, 13, -8, 4, 0, 1, -5, 7, 6]\n",
      "[-2, 5, 9, 10, 13, -8, 4, 0, 1, -5, 7, 6]\n",
      "[-2, 5, 9, 10, 13, -8, 4, 0, 1, -5, 7, 6]\n",
      "[-2, 5, 9, 10, -8, 13, 4, 0, 1, -5, 7, 6]\n",
      "[-2, 5, 9, -8, 10, 13, 4, 0, 1, -5, 7, 6]\n",
      "[-2, 5, -8, 9, 10, 13, 4, 0, 1, -5, 7, 6]\n",
      "[-2, -8, 5, 9, 10, 13, 4, 0, 1, -5, 7, 6]\n",
      "[-8, -2, 5, 9, 10, 13, 4, 0, 1, -5, 7, 6]\n",
      "[-8, -2, 5, 9, 10, 4, 13, 0, 1, -5, 7, 6]\n",
      "[-8, -2, 5, 9, 4, 10, 13, 0, 1, -5, 7, 6]\n",
      "[-8, -2, 5, 4, 9, 10, 13, 0, 1, -5, 7, 6]\n",
      "[-8, -2, 4, 5, 9, 10, 13, 0, 1, -5, 7, 6]\n",
      "[-8, -2, 4, 5, 9, 10, 13, 0, 1, -5, 7, 6]\n",
      "[-8, -2, 4, 5, 9, 10, 0, 13, 1, -5, 7, 6]\n",
      "[-8, -2, 4, 5, 9, 0, 10, 13, 1, -5, 7, 6]\n",
      "[-8, -2, 4, 5, 0, 9, 10, 13, 1, -5, 7, 6]\n",
      "[-8, -2, 4, 0, 5, 9, 10, 13, 1, -5, 7, 6]\n",
      "[-8, -2, 0, 4, 5, 9, 10, 13, 1, -5, 7, 6]\n",
      "[-8, -2, 0, 4, 5, 9, 10, 13, 1, -5, 7, 6]\n",
      "[-8, -2, 0, 4, 5, 9, 10, 1, 13, -5, 7, 6]\n",
      "[-8, -2, 0, 4, 5, 9, 1, 10, 13, -5, 7, 6]\n",
      "[-8, -2, 0, 4, 5, 1, 9, 10, 13, -5, 7, 6]\n",
      "[-8, -2, 0, 4, 1, 5, 9, 10, 13, -5, 7, 6]\n",
      "[-8, -2, 0, 1, 4, 5, 9, 10, 13, -5, 7, 6]\n",
      "[-8, -2, 0, 1, 4, 5, 9, 10, 13, -5, 7, 6]\n",
      "[-8, -2, 0, 1, 4, 5, 9, 10, -5, 13, 7, 6]\n",
      "[-8, -2, 0, 1, 4, 5, 9, -5, 10, 13, 7, 6]\n",
      "[-8, -2, 0, 1, 4, 5, -5, 9, 10, 13, 7, 6]\n",
      "[-8, -2, 0, 1, 4, -5, 5, 9, 10, 13, 7, 6]\n",
      "[-8, -2, 0, 1, -5, 4, 5, 9, 10, 13, 7, 6]\n",
      "[-8, -2, 0, -5, 1, 4, 5, 9, 10, 13, 7, 6]\n",
      "[-8, -2, -5, 0, 1, 4, 5, 9, 10, 13, 7, 6]\n",
      "[-8, -5, -2, 0, 1, 4, 5, 9, 10, 13, 7, 6]\n",
      "[-8, -5, -2, 0, 1, 4, 5, 9, 10, 13, 7, 6]\n",
      "[-8, -5, -2, 0, 1, 4, 5, 9, 10, 7, 13, 6]\n",
      "[-8, -5, -2, 0, 1, 4, 5, 9, 7, 10, 13, 6]\n",
      "[-8, -5, -2, 0, 1, 4, 5, 7, 9, 10, 13, 6]\n",
      "[-8, -5, -2, 0, 1, 4, 5, 7, 9, 10, 13, 6]\n",
      "[-8, -5, -2, 0, 1, 4, 5, 7, 9, 10, 6, 13]\n",
      "[-8, -5, -2, 0, 1, 4, 5, 7, 9, 6, 10, 13]\n",
      "[-8, -5, -2, 0, 1, 4, 5, 7, 6, 9, 10, 13]\n",
      "[-8, -5, -2, 0, 1, 4, 5, 6, 7, 9, 10, 13]\n"
     ]
    }
   ],
   "source": [
    "V = [10, 5, 9, -2, 13, -8, 4, 0, 1, -5, 7, 6]\n",
    "n = len(V)\n",
    "bolha()"
   ]
  },
  {
   "cell_type": "code",
   "execution_count": 118,
   "metadata": {},
   "outputs": [
    {
     "name": "stdout",
     "output_type": "stream",
     "text": [
      "[20, 13, 17, -9, 4, 8, 12]\n",
      "[13, 20, 17, -9, 4, 8, 12]\n",
      "[13, 17, 20, -9, 4, 8, 12]\n",
      "[13, 17, 20, -9, 4, 8, 12]\n",
      "[13, 17, -9, 20, 4, 8, 12]\n",
      "[13, -9, 17, 20, 4, 8, 12]\n",
      "[-9, 13, 17, 20, 4, 8, 12]\n",
      "[-9, 13, 17, 4, 20, 8, 12]\n",
      "[-9, 13, 4, 17, 20, 8, 12]\n",
      "[-9, 4, 13, 17, 20, 8, 12]\n",
      "[-9, 4, 13, 17, 20, 8, 12]\n",
      "[-9, 4, 13, 17, 8, 20, 12]\n",
      "[-9, 4, 13, 8, 17, 20, 12]\n",
      "[-9, 4, 8, 13, 17, 20, 12]\n",
      "[-9, 4, 8, 13, 17, 20, 12]\n",
      "[-9, 4, 8, 13, 17, 12, 20]\n",
      "[-9, 4, 8, 13, 12, 17, 20]\n",
      "[-9, 4, 8, 12, 13, 17, 20]\n"
     ]
    }
   ],
   "source": [
    "V = [20, 13, 17, -9, 4, 8, 12]\n",
    "n = len(V)\n",
    "bolha()"
   ]
  },
  {
   "cell_type": "markdown",
   "metadata": {},
   "source": [
    "## 10. Pilhas"
   ]
  },
  {
   "cell_type": "markdown",
   "metadata": {},
   "source": [
    "### Algoritmo de inserção"
   ]
  },
  {
   "cell_type": "code",
   "execution_count": 86,
   "metadata": {},
   "outputs": [],
   "source": [
    "topo = -1\n",
    "M = 5\n",
    "P = [None] * M"
   ]
  },
  {
   "cell_type": "code",
   "execution_count": 87,
   "metadata": {},
   "outputs": [
    {
     "name": "stdout",
     "output_type": "stream",
     "text": [
      "[None, None, None, None, None]\n"
     ]
    }
   ],
   "source": [
    "print(P)"
   ]
  },
  {
   "cell_type": "code",
   "execution_count": 88,
   "metadata": {},
   "outputs": [],
   "source": [
    "class Overflow(Exception): pass\n",
    "\n",
    "def insere(novo_valor):\n",
    "    global topo, M, P\n",
    "    if topo < M - 1:\n",
    "        topo = topo + 1\n",
    "        P[topo] = novo_valor\n",
    "    else:\n",
    "        raise Overflow(topo)"
   ]
  },
  {
   "cell_type": "code",
   "execution_count": 89,
   "metadata": {},
   "outputs": [
    {
     "name": "stdout",
     "output_type": "stream",
     "text": [
      "[0, 1, 4, 9, 16]\n"
     ]
    }
   ],
   "source": [
    "for i in range(M):\n",
    "    insere(i**2)\n",
    "print(P)"
   ]
  },
  {
   "cell_type": "code",
   "execution_count": 90,
   "metadata": {},
   "outputs": [
    {
     "name": "stdout",
     "output_type": "stream",
     "text": [
      "4\n"
     ]
    },
    {
     "ename": "Overflow",
     "evalue": "4",
     "output_type": "error",
     "traceback": [
      "\u001b[0;31m---------------------------------------------------------------------------\u001b[0m",
      "\u001b[0;31mOverflow\u001b[0m                                  Traceback (most recent call last)",
      "\u001b[0;32m<ipython-input-90-e08def068818>\u001b[0m in \u001b[0;36m<module>\u001b[0;34m()\u001b[0m\n\u001b[1;32m      1\u001b[0m \u001b[0mprint\u001b[0m\u001b[0;34m(\u001b[0m\u001b[0mtopo\u001b[0m\u001b[0;34m)\u001b[0m\u001b[0;34m\u001b[0m\u001b[0m\n\u001b[0;32m----> 2\u001b[0;31m \u001b[0minsere\u001b[0m\u001b[0;34m(\u001b[0m\u001b[0;32mNone\u001b[0m\u001b[0;34m)\u001b[0m\u001b[0;34m\u001b[0m\u001b[0m\n\u001b[0m",
      "\u001b[0;32m<ipython-input-88-0e55325bc9a7>\u001b[0m in \u001b[0;36minsere\u001b[0;34m(novo_valor)\u001b[0m\n\u001b[1;32m      7\u001b[0m         \u001b[0mP\u001b[0m\u001b[0;34m[\u001b[0m\u001b[0mtopo\u001b[0m\u001b[0;34m]\u001b[0m \u001b[0;34m=\u001b[0m \u001b[0mnovo_valor\u001b[0m\u001b[0;34m\u001b[0m\u001b[0m\n\u001b[1;32m      8\u001b[0m     \u001b[0;32melse\u001b[0m\u001b[0;34m:\u001b[0m\u001b[0;34m\u001b[0m\u001b[0m\n\u001b[0;32m----> 9\u001b[0;31m         \u001b[0;32mraise\u001b[0m \u001b[0mOverflow\u001b[0m\u001b[0;34m(\u001b[0m\u001b[0mtopo\u001b[0m\u001b[0;34m)\u001b[0m\u001b[0;34m\u001b[0m\u001b[0m\n\u001b[0m",
      "\u001b[0;31mOverflow\u001b[0m: 4"
     ]
    }
   ],
   "source": [
    "print(topo)\n",
    "insere(None)"
   ]
  },
  {
   "cell_type": "code",
   "execution_count": 91,
   "metadata": {},
   "outputs": [],
   "source": [
    "class Underflow(Exception): pass\n",
    "\n",
    "def remove():\n",
    "    global valor_recuperado, topo, M, P\n",
    "    if topo >= 0 and topo < M:\n",
    "        valor_recuperado = P[topo]\n",
    "        topo = topo - 1\n",
    "    else:\n",
    "        raise Underflow(topo)"
   ]
  },
  {
   "cell_type": "code",
   "execution_count": 92,
   "metadata": {},
   "outputs": [
    {
     "name": "stdout",
     "output_type": "stream",
     "text": [
      "16\n",
      "9\n",
      "4\n",
      "1\n",
      "0\n"
     ]
    }
   ],
   "source": [
    "P = [0, 1, 4, 9, 16]\n",
    "topo = 4\n",
    "valor_recuperado = None\n",
    "for i in range(M - 1, -1, -1): # range(M - 1, -1, -1) cria\n",
    "    remove()                   # um intervalo decrescente de  \n",
    "    print(valor_recuperado)    # M - 1 até -1"
   ]
  },
  {
   "cell_type": "code",
   "execution_count": 93,
   "metadata": {},
   "outputs": [
    {
     "name": "stdout",
     "output_type": "stream",
     "text": [
      "[0, 1, 4, 9, 16]\n"
     ]
    }
   ],
   "source": [
    "print(P)"
   ]
  },
  {
   "cell_type": "code",
   "execution_count": 94,
   "metadata": {},
   "outputs": [],
   "source": [
    "insere(None)"
   ]
  },
  {
   "cell_type": "code",
   "execution_count": 95,
   "metadata": {},
   "outputs": [
    {
     "name": "stdout",
     "output_type": "stream",
     "text": [
      "[None, 1, 4, 9, 16]\n"
     ]
    }
   ],
   "source": [
    "print(P)"
   ]
  },
  {
   "cell_type": "code",
   "execution_count": 96,
   "metadata": {},
   "outputs": [
    {
     "ename": "Underflow",
     "evalue": "-1",
     "output_type": "error",
     "traceback": [
      "\u001b[0;31m---------------------------------------------------------------------------\u001b[0m",
      "\u001b[0;31mUnderflow\u001b[0m                                 Traceback (most recent call last)",
      "\u001b[0;32m<ipython-input-96-28eacd4b4ca1>\u001b[0m in \u001b[0;36m<module>\u001b[0;34m()\u001b[0m\n\u001b[1;32m      1\u001b[0m \u001b[0mremove\u001b[0m\u001b[0;34m(\u001b[0m\u001b[0;34m)\u001b[0m\u001b[0;34m\u001b[0m\u001b[0m\n\u001b[0;32m----> 2\u001b[0;31m \u001b[0mremove\u001b[0m\u001b[0;34m(\u001b[0m\u001b[0;34m)\u001b[0m\u001b[0;34m\u001b[0m\u001b[0m\n\u001b[0m",
      "\u001b[0;32m<ipython-input-91-1f27d00c56c7>\u001b[0m in \u001b[0;36mremove\u001b[0;34m()\u001b[0m\n\u001b[1;32m      7\u001b[0m         \u001b[0mtopo\u001b[0m \u001b[0;34m=\u001b[0m \u001b[0mtopo\u001b[0m \u001b[0;34m-\u001b[0m \u001b[0;36m1\u001b[0m\u001b[0;34m\u001b[0m\u001b[0m\n\u001b[1;32m      8\u001b[0m     \u001b[0;32melse\u001b[0m\u001b[0;34m:\u001b[0m\u001b[0;34m\u001b[0m\u001b[0m\n\u001b[0;32m----> 9\u001b[0;31m         \u001b[0;32mraise\u001b[0m \u001b[0mUnderflow\u001b[0m\u001b[0;34m(\u001b[0m\u001b[0mtopo\u001b[0m\u001b[0;34m)\u001b[0m\u001b[0;34m\u001b[0m\u001b[0m\n\u001b[0m",
      "\u001b[0;31mUnderflow\u001b[0m: -1"
     ]
    }
   ],
   "source": [
    "remove()\n",
    "remove()"
   ]
  },
  {
   "cell_type": "code",
   "execution_count": null,
   "metadata": {},
   "outputs": [],
   "source": []
  }
 ],
 "metadata": {
  "kernelspec": {
   "display_name": "Python 3",
   "language": "python",
   "name": "python3"
  },
  "language_info": {
   "codemirror_mode": {
    "name": "ipython",
    "version": 3
   },
   "file_extension": ".py",
   "mimetype": "text/x-python",
   "name": "python",
   "nbconvert_exporter": "python",
   "pygments_lexer": "ipython3",
   "version": "3.7.0"
  }
 },
 "nbformat": 4,
 "nbformat_minor": 2
}
